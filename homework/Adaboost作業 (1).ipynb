{
 "cells": [
  {
   "cell_type": "markdown",
   "metadata": {},
   "source": [
    "### 作業目的:了解Ensemble中的Blending與Stacking"
   ]
  },
  {
   "cell_type": "markdown",
   "metadata": {},
   "source": [
    "### Question: 請描述Blending與Stacking的差異\n",
    "\n",
    "Answer:"
   ]
  },
  {
   "cell_type": "markdown",
   "metadata": {},
   "source": [
    "stacking\n",
    "\n",
    "一種模型融合的方法\n",
    "\n",
    "模型分為兩層\n",
    "\n",
    "第一層訓練多個不同的基礎模型，再以第一層訓練的各個模型輸出作為第二層的輸入，來訓練第二層模型。\n",
    "\n",
    "用所有訓練數據對第一層模型進行k折交叉驗證，使每個模型在訓練集上都有一個預測值，再將這些預測值最為新特徵，對第二層模型進行訓練。\n"
   ]
  },
  {
   "cell_type": "markdown",
   "metadata": {},
   "source": [
    "blending\n",
    "\n",
    "把訓練集分成兩部分，70%數據做為新的訓練集，剩下30%數據做為測試集\n",
    "\n",
    "第一層使用70%數據訓練多個模型，去預測30%數據的label\n",
    "\n",
    "第二層使用30%數據在第一層預測的結果作為新特徵繼續訓練\n"
   ]
  },
  {
   "cell_type": "markdown",
   "metadata": {},
   "source": [
    "兩者差異:\n",
    "\n",
    "  blending 兩層訓練使用的數據不同\n",
    "  \n",
    "  \n",
    "  stacking 用cross validation 產生2nd level model 所需要的訓練資料\n",
    "  \n",
    "  blending 直接將訓練集資料切出一部份，用來訓練2nd level model\n",
    "  \n",
    "    \n"
   ]
  },
  {
   "cell_type": "code",
   "execution_count": null,
   "metadata": {},
   "outputs": [],
   "source": []
  }
 ],
 "metadata": {
  "kernelspec": {
   "display_name": "Python 3",
   "language": "python",
   "name": "python3"
  },
  "language_info": {
   "codemirror_mode": {
    "name": "ipython",
    "version": 3
   },
   "file_extension": ".py",
   "mimetype": "text/x-python",
   "name": "python",
   "nbconvert_exporter": "python",
   "pygments_lexer": "ipython3",
   "version": "3.7.4"
  }
 },
 "nbformat": 4,
 "nbformat_minor": 2
}
