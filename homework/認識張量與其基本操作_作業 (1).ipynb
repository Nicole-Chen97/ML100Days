{
 "cells": [
  {
   "cell_type": "markdown",
   "metadata": {},
   "source": [
    "### 作業目的: 更加熟習pytorch的tensor操作\n",
    "\n",
    "pytorch中有提供很多的API，讓使用者針對tensor進行各式各樣的操作，本次的作業希望讀者由pytorch的[官方網站](https://pytorch.org/docs/stable/torch.html)中選定四個針對tensor操作的API，對他的使用方法進行範例操作演練。"
   ]
  },
  {
   "cell_type": "markdown",
   "metadata": {},
   "source": [
    "### 選定的API 函數\n",
    "\n",
    "**請寫下選定的API functions**\n",
    "\n",
    "ex:\n",
    "* torch.from_array() / tensor.numpy()\n",
    "* torch.unsqueeze() / torch.squeeze()\n",
    "* tensor.transpose() / tensor.permute()\n",
    "* torch.reshape() / tensor.view()"
   ]
  },
  {
   "cell_type": "code",
   "execution_count": 3,
   "metadata": {},
   "outputs": [],
   "source": [
    "# Import torch and other required modules\n",
    "import torch\n",
    "import numpy as np"
   ]
  },
  {
   "cell_type": "markdown",
   "metadata": {},
   "source": [
    "### 範例:\n",
    "### Function 1 - torch.from_array() / tensor.numpy()"
   ]
  },
  {
   "cell_type": "code",
   "execution_count": 3,
   "metadata": {},
   "outputs": [
    {
     "name": "stdout",
     "output_type": "stream",
     "text": [
      "a: <class 'numpy.ndarray'>, float64\n",
      "b: <class 'torch.Tensor'>, torch.float64\n",
      "c: <class 'torch.Tensor'>, torch.float64\n",
      "d: <class 'numpy.ndarray'>, float64\n"
     ]
    }
   ],
   "source": [
    "# Example 1 - 將torch tensor與numpy ndarray互相轉換\n",
    "a = np.random.rand(1,2,3,3)\n",
    "print(f'a: {type(a)}, {a.dtype}')\n",
    "b = torch.from_numpy(a)\n",
    "print(f'b: {type(b)}, {b.dtype}')\n",
    "c = torch.tensor(a)\n",
    "print(f'c: {type(c)}, {c.dtype}')\n",
    "d = c.numpy()\n",
    "print(f'd: {type(d)}, {d.dtype}')"
   ]
  },
  {
   "cell_type": "code",
   "execution_count": 4,
   "metadata": {},
   "outputs": [
    {
     "name": "stdout",
     "output_type": "stream",
     "text": [
      "a: <class 'numpy.ndarray'>, int64\n",
      "b: <class 'torch.Tensor'>, torch.int64\n",
      "c: <class 'torch.Tensor'>, torch.int64\n",
      "d: <class 'numpy.ndarray'>, int64\n"
     ]
    }
   ],
   "source": [
    "# Example 2 - 經過轉換後，torch tensor與numpy array依然有相近的資料型態\n",
    "a = np.random.randint(low=0, high=10, size=(2,2))\n",
    "print(f'a: {type(a)}, {a.dtype}')\n",
    "b = torch.from_numpy(a)\n",
    "print(f'b: {type(b)}, {b.dtype}')\n",
    "c = torch.tensor(a)\n",
    "print(f'c: {type(c)}, {c.dtype}')\n",
    "d = c.numpy()\n",
    "print(f'd: {type(d)}, {d.dtype}')"
   ]
  },
  {
   "cell_type": "markdown",
   "metadata": {},
   "source": [
    "### Function 1 - * torch.from_numpy(x) / x.numpy()\n"
   ]
  },
  {
   "cell_type": "code",
   "execution_count": 6,
   "metadata": {},
   "outputs": [
    {
     "name": "stdout",
     "output_type": "stream",
     "text": [
      "a: torch.Size([2, 3, 4])\n",
      "b: (2, 3, 4)\n",
      "c: torch.Size([2, 3, 4])\n",
      "d: (2, 2, 3, 3)\n",
      "e: torch.Size([2, 2, 3, 3])\n"
     ]
    }
   ],
   "source": [
    "# Example 1 - ### tensor和array 互相轉換\n",
    "### your code ###\n",
    "a=torch.randn((2,3,4))\n",
    "print('a:',a.shape)\n",
    "b=a.numpy()\n",
    "print('b:',b.shape)\n",
    "c=torch.from_numpy(b)\n",
    "print('c:',c.shape)\n",
    "d = np.random.rand(2,2,3,3)\n",
    "print('d:',d.shape)\n",
    "e=torch.from_numpy(d)\n",
    "print('e:',e.shape)\n"
   ]
  },
  {
   "cell_type": "code",
   "execution_count": 21,
   "metadata": {},
   "outputs": [
    {
     "name": "stdout",
     "output_type": "stream",
     "text": [
      "tensor([[0, 3, 2, 7],\n",
      "        [9, 9, 4, 0],\n",
      "        [9, 3, 4, 4]])\n",
      "a: torch.Size([3, 4]) torch.int64\n",
      "-------\n",
      "[[4 4 0 1]\n",
      " [3 3 1 4]]\n",
      "b: (2, 4) torch.int32\n",
      "c: (3, 4) int64\n",
      "d: torch.Size([2, 4]) torch.int32\n",
      "e: torch.Size([2, 4]) torch.int32\n"
     ]
    }
   ],
   "source": [
    "# Example 2 - \n",
    "# 嘗試以torch.randint設立tensor和以numpy.random.randint設立numpy, 再以tensor.numpy()和torch.from_numpy來互相轉換\n",
    "### your code ###\n",
    "a=torch.randint(low=0, high=10, size=(3,4))\n",
    "print(a)\n",
    "print('a:',a.shape,a.dtype)\n",
    "print('-------')\n",
    "b=np.random.randint(low=0,high=5,size=(2,4))\n",
    "print(b)\n",
    "print('b:',b.shape,d.dtype)\n",
    "\n",
    "c=a.numpy()\n",
    "print('c:',c.shape, c.dtype)\n",
    "d=torch.from_numpy(b)\n",
    "print('d:',d.shape,d.dtype)\n",
    "\n",
    "e=torch.tensor(b)\n",
    "print('e:',e.shape,e.dtype)"
   ]
  },
  {
   "cell_type": "markdown",
   "metadata": {},
   "source": [
    "### Function 2 - torch.unsqueeze() / torch.squeeze()\n"
   ]
  },
  {
   "cell_type": "code",
   "execution_count": 47,
   "metadata": {},
   "outputs": [
    {
     "name": "stdout",
     "output_type": "stream",
     "text": [
      "tensor([[[4, 4, 5, 6, 5, 9, 5],\n",
      "         [8, 0, 2, 9, 8, 9, 8],\n",
      "         [5, 7, 0, 9, 6, 1, 4]],\n",
      "\n",
      "        [[8, 0, 3, 3, 4, 6, 7],\n",
      "         [5, 2, 1, 6, 3, 3, 7],\n",
      "         [8, 8, 4, 1, 2, 9, 3]],\n",
      "\n",
      "        [[5, 6, 9, 4, 0, 6, 7],\n",
      "         [0, 1, 5, 1, 2, 4, 4],\n",
      "         [1, 9, 9, 4, 9, 8, 2]],\n",
      "\n",
      "        [[6, 2, 6, 6, 2, 6, 2],\n",
      "         [0, 8, 3, 5, 9, 0, 5],\n",
      "         [1, 4, 4, 5, 2, 5, 5]]]) torch.Size([4, 3, 7])\n",
      " \n",
      "tensor([[[[4, 4, 5, 6, 5, 9, 5]],\n",
      "\n",
      "         [[8, 0, 2, 9, 8, 9, 8]],\n",
      "\n",
      "         [[5, 7, 0, 9, 6, 1, 4]]],\n",
      "\n",
      "\n",
      "        [[[8, 0, 3, 3, 4, 6, 7]],\n",
      "\n",
      "         [[5, 2, 1, 6, 3, 3, 7]],\n",
      "\n",
      "         [[8, 8, 4, 1, 2, 9, 3]]],\n",
      "\n",
      "\n",
      "        [[[5, 6, 9, 4, 0, 6, 7]],\n",
      "\n",
      "         [[0, 1, 5, 1, 2, 4, 4]],\n",
      "\n",
      "         [[1, 9, 9, 4, 9, 8, 2]]],\n",
      "\n",
      "\n",
      "        [[[6, 2, 6, 6, 2, 6, 2]],\n",
      "\n",
      "         [[0, 8, 3, 5, 9, 0, 5]],\n",
      "\n",
      "         [[1, 4, 4, 5, 2, 5, 5]]]]) torch.Size([4, 3, 1, 7])\n",
      "  \n",
      "tensor([[[4, 4, 5, 6, 5, 9, 5],\n",
      "         [8, 0, 2, 9, 8, 9, 8],\n",
      "         [5, 7, 0, 9, 6, 1, 4]],\n",
      "\n",
      "        [[8, 0, 3, 3, 4, 6, 7],\n",
      "         [5, 2, 1, 6, 3, 3, 7],\n",
      "         [8, 8, 4, 1, 2, 9, 3]],\n",
      "\n",
      "        [[5, 6, 9, 4, 0, 6, 7],\n",
      "         [0, 1, 5, 1, 2, 4, 4],\n",
      "         [1, 9, 9, 4, 9, 8, 2]],\n",
      "\n",
      "        [[6, 2, 6, 6, 2, 6, 2],\n",
      "         [0, 8, 3, 5, 9, 0, 5],\n",
      "         [1, 4, 4, 5, 2, 5, 5]]]) torch.Size([4, 3, 7])\n"
     ]
    }
   ],
   "source": [
    "# Example 1 - ### unsqueeze 在指定位置增加維度(僅增加1維度)   squeeze()壓縮(除去)1維度的地方\n",
    "### your code ### squeeze() 對數據維度進行壓縮，去掉維度數為1的維度\n",
    "a=torch.randint(low=0,high=10,size=(4,3,7))\n",
    "print(a,a.shape)\n",
    "print(' ')\n",
    "g=torch.unsqueeze(a,dim=2)\n",
    "print(g,g.shape)\n",
    "print('  ')\n",
    "\n",
    "h=torch.squeeze(g)\n",
    "print(h,h.shape)"
   ]
  },
  {
   "cell_type": "code",
   "execution_count": 53,
   "metadata": {},
   "outputs": [
    {
     "name": "stdout",
     "output_type": "stream",
     "text": [
      "tensor([[ 1.0161,  1.2925, -1.5285]])\n",
      "a: tensor([[ 1.0161,  1.2925, -1.5285]]) torch.Size([1, 3])\n",
      "b: tensor([[[ 1.0161,  1.2925, -1.5285]]]) torch.Size([1, 1, 3])\n",
      "c: tensor([[[ 1.0161,  1.2925, -1.5285]]]) torch.Size([1, 1, 3])\n",
      "f: tensor([ 0.7588, -1.0703, -1.2475]) torch.Size([3])\n",
      "g: tensor([[ 0.7588, -1.0703, -1.2475]]) torch.Size([1, 3])\n"
     ]
    }
   ],
   "source": [
    "# Example 2 - ### your explanation ###\n",
    "### your code ###\n",
    "a=torch.randn(1,3)#原始\n",
    "print(a)\n",
    "print(\"a:\",a,a.shape)\n",
    "b=torch.unsqueeze(a,1) #在a中位置為1的地方加上維數為1的維度\n",
    "print(\"b:\",b,b.shape)\n",
    "c=a.unsqueeze(0) #在a中指定位置0加上一個維數為1的維度\n",
    "print(\"c:\",c,c.shape)\n",
    "f=torch.randn(3)\n",
    "print(\"f:\",f,f.shape)\n",
    "g=f.unsqueeze(0)\n",
    "print(\"g:\",g,g.shape)"
   ]
  },
  {
   "cell_type": "markdown",
   "metadata": {},
   "source": [
    "### Function 3 - * tensor.transpose() / tensor.permute()"
   ]
  },
  {
   "cell_type": "code",
   "execution_count": 7,
   "metadata": {
    "scrolled": true
   },
   "outputs": [
    {
     "name": "stdout",
     "output_type": "stream",
     "text": [
      "x: tensor([[[-0.3964,  1.1006, -0.2972, -0.0502,  1.1749],\n",
      "         [ 0.4525,  0.8143, -1.1211,  0.5842,  0.8114],\n",
      "         [ 0.4373, -1.4728, -0.3661, -2.8344,  0.1130]],\n",
      "\n",
      "        [[ 0.8026,  1.0318, -1.9001, -0.4998,  0.1752],\n",
      "         [-0.2372,  1.2300,  3.1720,  1.4834, -0.3628],\n",
      "         [-0.5284, -0.3564,  0.5845,  1.1801,  1.2744]]]) torch.Size([2, 3, 5])\n",
      "y: tensor([[[-0.3964,  0.4525,  0.4373],\n",
      "         [ 0.8026, -0.2372, -0.5284]],\n",
      "\n",
      "        [[ 1.1006,  0.8143, -1.4728],\n",
      "         [ 1.0318,  1.2300, -0.3564]],\n",
      "\n",
      "        [[-0.2972, -1.1211, -0.3661],\n",
      "         [-1.9001,  3.1720,  0.5845]],\n",
      "\n",
      "        [[-0.0502,  0.5842, -2.8344],\n",
      "         [-0.4998,  1.4834,  1.1801]],\n",
      "\n",
      "        [[ 1.1749,  0.8114,  0.1130],\n",
      "         [ 0.1752, -0.3628,  1.2744]]]) torch.Size([5, 2, 3])\n"
     ]
    }
   ],
   "source": [
    "# Example 1 - ### #transpose和permute()用來改變維度和順序\n",
    "#transpose(input,dim0,dim1) 交換維度:dim0轉置的第一維 dim1轉置的第二維\n",
    "#permute(dims) 有幾個維度，就要放幾個維度 dims(int...*):換位順序，必填\n",
    "### your code ###\n",
    "x = torch.randn(2, 3, 5)  #dim=0>>2,dim=1>>3,dim=2>>>5\n",
    "print('x:',x,x.shape)\n",
    "\n",
    "y=x.permute(2, 0, 1)\n",
    "print('y:',y,y.shape)\n"
   ]
  },
  {
   "cell_type": "code",
   "execution_count": 31,
   "metadata": {},
   "outputs": [
    {
     "name": "stdout",
     "output_type": "stream",
     "text": [
      "tensor([[ 1.3159, -0.9301, -1.0125],\n",
      "        [ 0.2634,  0.3707,  1.6328]])\n",
      "torch.Size([2, 3])\n",
      "---------\n",
      "tensor([[ 1.3159,  0.2634],\n",
      "        [-0.9301,  0.3707],\n",
      "        [-1.0125,  1.6328]]) torch.Size([3, 2])\n",
      "----------\n",
      "tensor([[ 1.3159,  0.2634],\n",
      "        [-0.9301,  0.3707],\n",
      "        [-1.0125,  1.6328]]) torch.Size([3, 2])\n",
      "----------\n",
      "tensor([[ 1.3159, -0.9301, -1.0125],\n",
      "        [ 0.2634,  0.3707,  1.6328]]) torch.Size([2, 3])\n",
      "---------\n",
      "tensor([[ 1.3159,  0.2634],\n",
      "        [-0.9301,  0.3707],\n",
      "        [-1.0125,  1.6328]]) torch.Size([3, 2])\n",
      "三維:\n",
      "x: tensor([[[-0.4155, -0.2898,  0.9228, -0.2653,  0.1043],\n",
      "         [-0.2304, -2.4038,  0.0090, -1.8409, -0.8716],\n",
      "         [-2.3199,  0.4588,  1.5132, -0.6685, -0.3104]],\n",
      "\n",
      "        [[-0.3548, -0.6670, -0.4504, -1.2364, -2.1109],\n",
      "         [ 0.7793,  0.4399,  0.1719,  0.3009, -0.6429],\n",
      "         [-1.0658,  0.1947, -0.8230, -1.4220,  1.1711]]]) torch.Size([2, 3, 5])\n",
      "tensor([[[-0.4155, -0.2898,  0.9228, -0.2653,  0.1043],\n",
      "         [-0.3548, -0.6670, -0.4504, -1.2364, -2.1109]],\n",
      "\n",
      "        [[-0.2304, -2.4038,  0.0090, -1.8409, -0.8716],\n",
      "         [ 0.7793,  0.4399,  0.1719,  0.3009, -0.6429]],\n",
      "\n",
      "        [[-2.3199,  0.4588,  1.5132, -0.6685, -0.3104],\n",
      "         [-1.0658,  0.1947, -0.8230, -1.4220,  1.1711]]]) torch.Size([3, 2, 5])\n",
      "---------\n"
     ]
    },
    {
     "ename": "TypeError",
     "evalue": "transpose() received an invalid combination of arguments - got (int, int, int), but expected one of:\n * (name dim0, name dim1)\n * (int dim0, int dim1)\n",
     "output_type": "error",
     "traceback": [
      "\u001b[1;31m---------------------------------------------------------------------------\u001b[0m",
      "\u001b[1;31mTypeError\u001b[0m                                 Traceback (most recent call last)",
      "\u001b[1;32m<ipython-input-31-96707037f424>\u001b[0m in \u001b[0;36m<module>\u001b[1;34m\u001b[0m\n\u001b[0;32m     25\u001b[0m \u001b[0mprint\u001b[0m\u001b[1;33m(\u001b[0m\u001b[0me\u001b[0m\u001b[1;33m,\u001b[0m\u001b[0me\u001b[0m\u001b[1;33m.\u001b[0m\u001b[0mshape\u001b[0m\u001b[1;33m)\u001b[0m\u001b[1;33m\u001b[0m\u001b[1;33m\u001b[0m\u001b[0m\n\u001b[0;32m     26\u001b[0m \u001b[0mprint\u001b[0m\u001b[1;33m(\u001b[0m\u001b[1;34m'---------'\u001b[0m\u001b[1;33m)\u001b[0m\u001b[1;33m\u001b[0m\u001b[1;33m\u001b[0m\u001b[0m\n\u001b[1;32m---> 27\u001b[1;33m \u001b[0mf\u001b[0m\u001b[1;33m=\u001b[0m\u001b[0my\u001b[0m\u001b[1;33m.\u001b[0m\u001b[0mtranspose\u001b[0m\u001b[1;33m(\u001b[0m\u001b[1;36m0\u001b[0m\u001b[1;33m,\u001b[0m\u001b[1;36m2\u001b[0m\u001b[1;33m,\u001b[0m\u001b[1;36m1\u001b[0m\u001b[1;33m)\u001b[0m \u001b[1;31m#操作不了多維\u001b[0m\u001b[1;33m\u001b[0m\u001b[1;33m\u001b[0m\u001b[0m\n\u001b[0m\u001b[0;32m     28\u001b[0m \u001b[0mprint\u001b[0m\u001b[1;33m(\u001b[0m\u001b[0mf\u001b[0m\u001b[1;33m,\u001b[0m\u001b[0mf\u001b[0m\u001b[1;33m.\u001b[0m\u001b[0mshape\u001b[0m\u001b[1;33m)\u001b[0m\u001b[1;33m\u001b[0m\u001b[1;33m\u001b[0m\u001b[0m\n",
      "\u001b[1;31mTypeError\u001b[0m: transpose() received an invalid combination of arguments - got (int, int, int), but expected one of:\n * (name dim0, name dim1)\n * (int dim0, int dim1)\n"
     ]
    }
   ],
   "source": [
    "# Example 2 -\n",
    "### transpose()只能一次操作兩個維度，permute()可以一次操作多維數據\n",
    "### your code ###\n",
    "x=torch.randn(2,3) #shape[2,3]  dim0=2,dim1=3\n",
    "print(x)\n",
    "print(x.shape)\n",
    "print('---------')\n",
    "a=x.transpose(0,1) #shape[3,2]\n",
    "print(a,a.shape)\n",
    "print('----------')\n",
    "b=x.transpose(1,0) #shape[3,2]\n",
    "print(b,b.shape)\n",
    "print('----------')\n",
    "c=x.permute(0,1)   #shape[2,3]\n",
    "print(c,c.shape)\n",
    "print('---------') \n",
    "d=x.permute(1,0) #shape[3,2],不同於x.transpose(1,0)\n",
    "print(d,d.shape)\n",
    "\n",
    "#三維:\n",
    "print('三維:')\n",
    "x = torch.randn(2, 3, 5)  #dim=0>>2,dim=1>>3,dim=2>>>5\n",
    "print('x:',x,x.shape) #shape[2,3,5]\n",
    "e=x.transpose(0,1)\n",
    "print(e,e.shape)     #shape[3,2,5]\n",
    "print('---------')\n",
    "f=y.transpose(0,2,1) #操作不了多維\n",
    "print(f,f.shape)"
   ]
  },
  {
   "cell_type": "code",
   "execution_count": 26,
   "metadata": {},
   "outputs": [
    {
     "name": "stdout",
     "output_type": "stream",
     "text": [
      "tensor([[[ 0.1561,  1.0152, -0.2467, -2.2537],\n",
      "         [ 0.5231, -0.3431,  1.8261,  0.2044],\n",
      "         [ 0.2474, -0.9150, -0.9800, -0.4991]],\n",
      "\n",
      "        [[-0.5262,  0.5815,  0.8542,  1.2622],\n",
      "         [-1.1085, -1.2806, -0.3708, -0.5826],\n",
      "         [-0.8704,  0.1808, -0.1720, -0.3412]]]) torch.Size([2, 3, 4])\n",
      "------------\n",
      "tensor([[[ 0.1561,  0.5231,  0.2474],\n",
      "         [ 1.0152, -0.3431, -0.9150],\n",
      "         [-0.2467,  1.8261, -0.9800],\n",
      "         [-2.2537,  0.2044, -0.4991]],\n",
      "\n",
      "        [[-0.5262, -1.1085, -0.8704],\n",
      "         [ 0.5815, -1.2806,  0.1808],\n",
      "         [ 0.8542, -0.3708, -0.1720],\n",
      "         [ 1.2622, -0.5826, -0.3412]]]) torch.Size([2, 4, 3])\n",
      "-----------\n",
      "tensor([[[ 0.1561,  1.0152, -0.2467, -2.2537],\n",
      "         [-0.5262,  0.5815,  0.8542,  1.2622]],\n",
      "\n",
      "        [[ 0.5231, -0.3431,  1.8261,  0.2044],\n",
      "         [-1.1085, -1.2806, -0.3708, -0.5826]],\n",
      "\n",
      "        [[ 0.2474, -0.9150, -0.9800, -0.4991],\n",
      "         [-0.8704,  0.1808, -0.1720, -0.3412]]]) torch.Size([3, 2, 4])\n"
     ]
    }
   ],
   "source": [
    "y = torch.randn(2,3,4)\n",
    "print(y,y.shape)\n",
    "print(\"------------\")\n",
    "\n",
    "h=y.permute(0,2,1)\n",
    "print(h,h.shape)\n",
    "print('-----------')\n",
    "j=y.permute(1,0,2)\n",
    "print(j,j.shape)"
   ]
  },
  {
   "cell_type": "markdown",
   "metadata": {},
   "source": [
    "### Function 4 - * torch.reshape() / tensor.view()"
   ]
  },
  {
   "cell_type": "code",
   "execution_count": 29,
   "metadata": {},
   "outputs": [
    {
     "name": "stdout",
     "output_type": "stream",
     "text": [
      "tensor([[0, 3, 4, 5, 5, 5],\n",
      "        [0, 8, 5, 2, 8, 1],\n",
      "        [0, 7, 2, 5, 7, 2],\n",
      "        [7, 4, 2, 1, 1, 2]]) torch.Size([4, 6])\n",
      " \n",
      "tensor([[0, 3, 4],\n",
      "        [5, 5, 5],\n",
      "        [0, 8, 5],\n",
      "        [2, 8, 1],\n",
      "        [0, 7, 2],\n",
      "        [5, 7, 2],\n",
      "        [7, 4, 2],\n",
      "        [1, 1, 2]]) torch.Size([8, 3])\n",
      " \n",
      "tensor([[0, 3, 4],\n",
      "        [5, 5, 5],\n",
      "        [0, 8, 5],\n",
      "        [2, 8, 1],\n",
      "        [0, 7, 2],\n",
      "        [5, 7, 2],\n",
      "        [7, 4, 2],\n",
      "        [1, 1, 2]]) torch.Size([8, 3])\n"
     ]
    }
   ],
   "source": [
    "# Example 1 - reshape和view都可以改變tensor的形狀，且兩者改變後的結果相同\n",
    "### your code ###\n",
    "a=torch.randint(low=0,high=10,size=(4,6))\n",
    "print(a,a.shape)\n",
    "print(' ')\n",
    "b=a.reshape(8,3)\n",
    "c=a.view(8,3)\n",
    "print(b,b.shape)\n",
    "print(' ')\n",
    "print(c,c.shape)"
   ]
  },
  {
   "cell_type": "code",
   "execution_count": 31,
   "metadata": {},
   "outputs": [
    {
     "name": "stdout",
     "output_type": "stream",
     "text": [
      "tensor([[8, 3, 9, 8, 3, 2],\n",
      "        [5, 7, 9, 6, 8, 7],\n",
      "        [7, 7, 6, 5, 5, 4],\n",
      "        [6, 5, 1, 3, 9, 2]]) torch.Size([4, 6])\n",
      " \n",
      "tensor([[8, 3, 9, 8, 3, 2],\n",
      "        [5, 7, 9, 6, 8, 7],\n",
      "        [7, 7, 6, 5, 5, 4],\n",
      "        [6, 5, 1, 3, 9, 2]]) torch.Size([4, 6])\n",
      " \n",
      "tensor([[8, 3, 9, 8, 3, 2],\n",
      "        [5, 7, 9, 6, 8, 7],\n",
      "        [7, 7, 6, 5, 5, 4],\n",
      "        [6, 5, 1, 3, 9, 2]]) torch.Size([4, 6])\n"
     ]
    }
   ],
   "source": [
    "# Example 2 - ### \n",
    "### your code ###\n",
    "a=torch.randint(low=0,high=10,size=(4,6))\n",
    "print(a,a.shape)\n",
    "print(' ')\n",
    "d=a.reshape(4,-1)\n",
    "print(d,d.shape)\n",
    "print(' ')\n",
    "e=a.view(4,-1)\n",
    "print(e,e.shape)"
   ]
  },
  {
   "cell_type": "code",
   "execution_count": null,
   "metadata": {},
   "outputs": [],
   "source": []
  }
 ],
 "metadata": {
  "kernelspec": {
   "display_name": "Python 3",
   "language": "python",
   "name": "python3"
  },
  "language_info": {
   "codemirror_mode": {
    "name": "ipython",
    "version": 3
   },
   "file_extension": ".py",
   "mimetype": "text/x-python",
   "name": "python",
   "nbconvert_exporter": "python",
   "pygments_lexer": "ipython3",
   "version": "3.7.4"
  }
 },
 "nbformat": 4,
 "nbformat_minor": 2
}
