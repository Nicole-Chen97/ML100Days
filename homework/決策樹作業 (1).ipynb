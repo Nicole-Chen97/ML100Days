{
 "cells": [
  {
   "cell_type": "markdown",
   "metadata": {},
   "source": [
    "### 作業目的:了解決策樹的節點分支依據\n",
    "本次作業可參考簡報中的延伸閱讀[訊息增益](https://medium.com/jameslearningnote/%E8%B3%87%E6%96%99%E5%88%86%E6%9E%90-%E6%A9%9F%E5%99%A8%E5%AD%B8%E7%BF%92-%E7%AC%AC3-5%E8%AC%9B-%E6%B1%BA%E7%AD%96%E6%A8%B9-decision-tree-%E4%BB%A5%E5%8F%8A%E9%9A%A8%E6%A9%9F%E6%A3%AE%E6%9E%97-random-forest-%E4%BB%8B%E7%B4%B9-7079b0ddfbda)部分"
   ]
  },
  {
   "cell_type": "markdown",
   "metadata": {},
   "source": [
    "#### Question:\n",
    "若你是決策樹，下列兩種分類狀況(a,b)，你會選擇哪種做分類？為什麼？\n",
    "\n",
    "<img src='img/hw_1.png' style='width:500px'>"
   ]
  },
  {
   "cell_type": "markdown",
   "metadata": {},
   "source": [
    "### Answer:\n",
    "a\n",
    "\n",
    "entropy:\n",
    "\n",
    "Ih(Dp)=-(0.5*log2(0.5)+0.5*log2(0.5))=1\n",
    "\n",
    "Ih(Dl)=-(3/4*log2(3/4)+1/4*log2(3/4))=0.81\n",
    "\n",
    "Ih(Dr)=-(1/4*log2(1/4)+3/4*log2(3/4))=0.81\n",
    "\n",
    "IGh=1-2/4*0.81+-2/4*0.81=0.19\n",
    "\n",
    "Gini:\n",
    "\n",
    "Ig(Dp)=1-(0.5^2+0.5^2)=0.5\n",
    "\n",
    "Ig(Dl)=1-((3/4)^2+(1/4)^2)=0.375\n",
    "\n",
    "Ig(Dr)=1-((1/4)^2+(3/4)^2)=0.375\n",
    "\n",
    "IG=0.5-2/4*0.375-2/4*0.375=0.125\n",
    "\n",
    "\n",
    "B:\n",
    "\n",
    "Entropy:\n",
    "\n",
    "Ih(Dp)=-(0.5*log2(0.5)+0.5*log2(0.5))=1\n",
    "\n",
    "Ih(Dl)=-(3/7*log2(3/7)+4/7*log2(4/7))=\n",
    "\n",
    "Ih(Dr)=0\n",
    "\n",
    "IGh=1-35/40* \n",
    "\n",
    "Gini:\n",
    "\n",
    "Ig(Dp)=1-(0.5^2+0.5^2)=0.5\n",
    "\n",
    "Ig(Dl)=1-((3/7)^2+(4/7)^2)=0.49\n",
    "\n",
    "Ig(Dr)=1-((5/5)^2+(0/5)^2)=0\n",
    "\n",
    "Ig=0.5-35/40*0.49- 1/8*0=0.07125\n",
    "\n",
    "\n",
    "###your answer###"
   ]
  },
  {
   "cell_type": "markdown",
   "metadata": {},
   "source": [
    "### 閱讀作業\n",
    "\n",
    "決策樹根據計算分割準則的不同(ex: Entropy, Gini, Gain ratio)，可分為ID3, C4.5, CART樹的算法，請同學閱讀下列文章，來更加了解決策樹的算法。\n",
    "\n",
    "[決策樹(ID3, C4.5, CART)](https://blog.csdn.net/u010089444/article/details/53241218)"
   ]
  },
  {
   "cell_type": "code",
   "execution_count": null,
   "metadata": {},
   "outputs": [],
   "source": []
  }
 ],
 "metadata": {
  "kernelspec": {
   "display_name": "Python 3",
   "language": "python",
   "name": "python3"
  },
  "language_info": {
   "codemirror_mode": {
    "name": "ipython",
    "version": 3
   },
   "file_extension": ".py",
   "mimetype": "text/x-python",
   "name": "python",
   "nbconvert_exporter": "python",
   "pygments_lexer": "ipython3",
   "version": "3.7.4"
  }
 },
 "nbformat": 4,
 "nbformat_minor": 2
}
