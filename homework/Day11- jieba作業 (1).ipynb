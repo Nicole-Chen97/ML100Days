{
 "cells": [
  {
   "cell_type": "markdown",
   "metadata": {},
   "source": [
    "## 作業目標：運用課程所學，操作字串達到預期輸出"
   ]
  },
  {
   "cell_type": "markdown",
   "metadata": {},
   "source": [
    "* 自行尋找一篇超過100字的文章\n",
    "    * 首先運用結巴斷詞，自行新增字典使得斷詞更為正確\n",
    "    * 使用jieba 完成 PoS Taggin\n",
    "    * 新增的詞也必須賦予詞性"
   ]
  },
  {
   "cell_type": "markdown",
   "metadata": {},
   "source": [
    "---"
   ]
  },
  {
   "cell_type": "code",
   "execution_count": 1,
   "metadata": {},
   "outputs": [],
   "source": [
    "import jieba\n",
    "import jieba.posseg as pseg\n",
    "jieba.set_dictionary('dict.txt')"
   ]
  },
  {
   "cell_type": "markdown",
   "metadata": {},
   "source": [
    "---"
   ]
  },
  {
   "cell_type": "code",
   "execution_count": 2,
   "metadata": {},
   "outputs": [],
   "source": [
    "sentence = '''這是敘述近年來，AI 應用已無所不在，不論在新創或是傳產領域，都可能透過機器學習解決過去難以解決的問題。但目前台灣企業在 AI 導入的腳步仍然緩慢，除了人才嚴重短缺，教育資源無法即時跟上產業變異也是原因之一。因此，我們發起了「 機器學習 百日馬拉松 」教練陪跑計劃，翻轉傳統上課模式，以自主練習為主，幫助你獲得最大學習成效，搶先一步進入 AI 人工智能領域。'''"
   ]
  },
  {
   "cell_type": "code",
   "execution_count": 3,
   "metadata": {},
   "outputs": [
    {
     "data": {
      "text/plain": [
       "'這是敘述近年來，AI 應用已無所不在，不論在新創或是傳產領域，都可能透過機器學習解決過去難以解決的問題。但目前台灣企業在 AI 導入的腳步仍然緩慢，除了人才嚴重短缺，教育資源無法即時跟上產業變異也是原因之一。因此，我們發起了「 機器學習 百日馬拉松 」教練陪跑計劃，翻轉傳統上課模式，以自主練習為主，幫助你獲得最大學習成效，搶先一步進入 AI 人工智能領域。'"
      ]
     },
     "execution_count": 3,
     "metadata": {},
     "output_type": "execute_result"
    }
   ],
   "source": [
    "sentence"
   ]
  },
  {
   "cell_type": "code",
   "execution_count": 4,
   "metadata": {},
   "outputs": [
    {
     "name": "stderr",
     "output_type": "stream",
     "text": [
      "Building prefix dict from C:\\Users\\nicole\\NLP100\\Day11\\dict.txt ...\n",
      "Dumping model to file cache C:\\Users\\nicole\\AppData\\Local\\Temp\\jieba.uc56fbd23e43102c13bd7b927f13396d4.cache\n",
      "Loading model cost 2.768 seconds.\n",
      "Prefix dict has been built successfully.\n"
     ]
    },
    {
     "name": "stdout",
     "output_type": "stream",
     "text": [
      "output 精確模式: 這是|敘述|近年|來|，|AI| |應用|已|無所不在|，|不論|在|新創|或是|傳產|領域|，|都|可能|透過|機器|學習|解決|過去|難以|解決|的|問題|。|但|目前|台灣|企業|在| |AI| |導入|的|腳步|仍然|緩慢|，|除了|人才|嚴重|短缺|，|教育|資源|無法|即時|跟上|產業|變異|也|是|原因|之|一|。|因此|，|我們|發起|了|「| |機器|學習| |百日|馬拉松| |」|教練|陪跑|計劃|，|翻轉|傳統|上課|模式|，|以|自主|練習|為主|，|幫助|你|獲得|最|大|學習|成效|，|搶先|一步|進入| |AI| |人工|智能|領域|。\n"
     ]
    }
   ],
   "source": [
    "print(\"output 精確模式: {}\".format('|'.join(jieba.cut(sentence, cut_all=False, HMM=False))))\n"
   ]
  },
  {
   "cell_type": "markdown",
   "metadata": {},
   "source": [
    "## 新增字典"
   ]
  },
  {
   "cell_type": "code",
   "execution_count": 25,
   "metadata": {
    "scrolled": true
   },
   "outputs": [],
   "source": [
    "new_words = '機器學習\\n百日馬拉松\\n教練陪跑計畫\\n人工智能'\n",
    "with open('new_words1.txt', 'w',encoding='UTF-8') as file:\n",
    "\tfile.write(new_words)\n",
    "   "
   ]
  },
  {
   "cell_type": "code",
   "execution_count": 27,
   "metadata": {
    "scrolled": true
   },
   "outputs": [],
   "source": [
    "jieba.load_userdict('new_words1.txt') "
   ]
  },
  {
   "cell_type": "code",
   "execution_count": 28,
   "metadata": {},
   "outputs": [
    {
     "name": "stdout",
     "output_type": "stream",
     "text": [
      "output 精確模式: 這是|敘述|近年|來|，|AI| |應用|已|無所不在|，|不論|在|新創|或是|傳產|領域|，|都|可能|透過|機器學習|解決|過去|難以|解決|的|問題|。|但|目前|台灣|企業|在| |AI| |導入|的|腳步|仍然|緩慢|，|除了|人才|嚴重|短缺|，|教育|資源|無法|即時|跟上|產業|變異|也|是|原因|之|一|。|因此|，|我們|發起|了|「| |機器學習| |百日馬拉松| |」|教練|陪跑|計劃|，|翻轉|傳統|上課|模式|，|以|自主|練習|為主|，|幫助|你|獲得|最|大|學習|成效|，|搶先|一步|進入| |AI| |人工智能|領域|。\n"
     ]
    }
   ],
   "source": [
    "print(\"output 精確模式: {}\".format('|'.join(jieba.cut(sentence, cut_all=False, HMM=False))))"
   ]
  },
  {
   "cell_type": "markdown",
   "metadata": {},
   "source": [
    "## Taggin"
   ]
  },
  {
   "cell_type": "code",
   "execution_count": 29,
   "metadata": {},
   "outputs": [
    {
     "name": "stdout",
     "output_type": "stream",
     "text": [
      "這是 x\n",
      "敘述 x\n",
      "近年 t\n",
      "來 zg\n",
      "， x\n",
      "AI eng\n",
      "  x\n",
      "應用 x\n",
      "已 d\n",
      "無所不在 x\n",
      "， x\n",
      "不論 x\n",
      "在 p\n",
      "新創 x\n",
      "或是 c\n",
      "傳產 x\n",
      "領域 x\n",
      "， x\n",
      "都 d\n",
      "可能 v\n",
      "透過 x\n",
      "機器學習 x\n",
      "解決 x\n",
      "過去 x\n",
      "難以 x\n",
      "解決 x\n",
      "的 uj\n",
      "問題 x\n",
      "。 x\n",
      "但 c\n",
      "目前 t\n",
      "台灣 x\n",
      "企業 x\n",
      "在 p\n",
      "  x\n",
      "AI eng\n",
      "  x\n",
      "導入 x\n",
      "的 uj\n",
      "腳步 x\n",
      "仍然 d\n",
      "緩慢 x\n",
      "， x\n",
      "除了 p\n",
      "人才 n\n",
      "嚴重 x\n",
      "短缺 a\n",
      "， x\n",
      "教育 vn\n",
      "資源 x\n",
      "無法 x\n",
      "即時 x\n",
      "跟上 f\n",
      "產業 x\n",
      "變異 x\n",
      "也 d\n",
      "是 v\n",
      "原因 n\n",
      "之一 r\n",
      "。 x\n",
      "因此 c\n",
      "， x\n",
      "我們 x\n",
      "發起 x\n",
      "了 ul\n",
      "「 x\n",
      "  x\n",
      "機器學習 x\n",
      "  x\n",
      "百日馬拉松 x\n",
      "  x\n",
      "」 x\n",
      "教練 x\n",
      "陪跑 x\n",
      "計劃 x\n",
      "， x\n",
      "翻轉 x\n",
      "傳統 x\n",
      "上課 x\n",
      "模式 n\n",
      "， x\n",
      "以 p\n",
      "自主 v\n",
      "練習 x\n",
      "為主 x\n",
      "， x\n",
      "幫助 x\n",
      "你 r\n",
      "獲得 x\n",
      "最 d\n",
      "大 a\n",
      "學習 x\n",
      "成效 a\n",
      "， x\n",
      "搶先 x\n",
      "一步 m\n",
      "進入 x\n",
      "  x\n",
      "AI eng\n",
      "  x\n",
      "人工智能 n\n",
      "領域 x\n",
      "。 x\n"
     ]
    }
   ],
   "source": [
    "words = pseg.cut(sentence,)\n",
    "for word, flag in words:\n",
    "    print(word, flag)"
   ]
  },
  {
   "cell_type": "code",
   "execution_count": 30,
   "metadata": {},
   "outputs": [],
   "source": [
    "sentence_1='台中捷運綠線於11月16日啟動試營運，結果第17列車於11月21日發生連結器軸心斷裂，在台中市政府要求下，施工單位台北市政府捷運局、車輛原廠川崎重工擴大檢測，於12月11日向台中市政府報告檢測結果及改善方案。盧秀燕上午率交通局長葉昭甫、台中捷運公司董事長林志盈、法制局長李善植等人，公開說明台中市政府在聽取北捷及川崎重工報告後，經仔細研讀，了解各項數據及影響層面，並召開內部專業會議後，盧秀燕強調，基於安全至上，為了安全，原定19日的通車典禮取消。'"
   ]
  },
  {
   "cell_type": "code",
   "execution_count": 31,
   "metadata": {},
   "outputs": [
    {
     "name": "stdout",
     "output_type": "stream",
     "text": [
      "output 精確模式: 台中|捷運|綠線|於|11|月|16|日|啟動|試營運|，|結果|第|17|列車|於|11|月|21|日|發生|連結|器|軸心|斷裂|，|在|台中市|政府|要求|下|，|施工|單位|台北市|政府|捷運局|、|車輛|原廠|川崎|重工|擴大|檢測|，|於|12|月|11|日|向|台中市|政府|報告|檢測|結果|及|改善|方案|。|盧秀燕|上午|率|交通局|長葉|昭|甫|、|台中|捷運|公司|董事長|林|志|盈|、|法制|局長|李善|植|等|人|，|公開|說明|台中市|政府|在|聽取|北捷|及|川崎|重工|報告|後|，|經|仔細|研讀|，|了解|各|項|數據|及|影響|層面|，|並|召開|內部|專業|會議|後|，|盧秀燕|強調|，|基於|安全|至上|，|為了|安全|，|原定|19|日|的|通車|典禮|取消|。\n"
     ]
    }
   ],
   "source": [
    "print(\"output 精確模式: {}\".format('|'.join(jieba.cut(sentence_1, cut_all=False, HMM=False))))"
   ]
  },
  {
   "cell_type": "code",
   "execution_count": 32,
   "metadata": {},
   "outputs": [],
   "source": [
    "new_words = '台中市政府\\n交通局長\\n葉昭甫\\n林志盈\\n法制局長\\n李善植'\n",
    "with open('new_words2.txt', 'w',encoding='UTF-8') as file:\n",
    "\tfile.write(new_words)\n",
    "   "
   ]
  },
  {
   "cell_type": "code",
   "execution_count": 34,
   "metadata": {},
   "outputs": [
    {
     "name": "stdout",
     "output_type": "stream",
     "text": [
      "output 精確模式: 台中|捷運|綠線|於|11|月|16|日|啟動|試營運|，|結果|第|17|列車|於|11|月|21|日|發生|連結|器|軸心|斷裂|，|在|台中市政府|要求|下|，|施工|單位|台北市|政府|捷運局|、|車輛|原廠|川崎|重工|擴大|檢測|，|於|12|月|11|日|向|台中市政府|報告|檢測|結果|及|改善|方案|。|盧秀燕|上午|率|交通局長|葉昭甫|、|台中|捷運|公司|董事長|林志盈|、|法制局長|李善植|等|人|，|公開|說明|台中市政府|在|聽取|北捷|及|川崎|重工|報告|後|，|經|仔細|研讀|，|了解|各|項|數據|及|影響|層面|，|並|召開|內部|專業|會議|後|，|盧秀燕|強調|，|基於|安全|至上|，|為了|安全|，|原定|19|日|的|通車|典禮|取消|。\n"
     ]
    }
   ],
   "source": [
    "jieba.load_userdict('new_words2.txt') \n",
    "\n",
    "print(\"output 精確模式: {}\".format('|'.join(jieba.cut(sentence_1, cut_all=False, HMM=False))))"
   ]
  },
  {
   "cell_type": "code",
   "execution_count": 36,
   "metadata": {},
   "outputs": [
    {
     "name": "stdout",
     "output_type": "stream",
     "text": [
      "台中 s\n",
      "捷運 x\n",
      "綠線 x\n",
      "於 nr\n",
      "11 m\n",
      "月 m\n",
      "16 m\n",
      "日 m\n",
      "啟動 x\n",
      "試營運 x\n",
      "， x\n",
      "結果 x\n",
      "第 m\n",
      "17 m\n",
      "列車 x\n",
      "於 nr\n",
      "11 m\n",
      "月 m\n",
      "21 m\n",
      "日 m\n",
      "發生 x\n",
      "連結 x\n",
      "器 n\n",
      "軸心 x\n",
      "斷裂 x\n",
      "， x\n",
      "在 p\n",
      "台中市政府 x\n",
      "要求 v\n",
      "下 f\n",
      "， x\n",
      "施工 vn\n",
      "單位 x\n",
      "台北市 ns\n",
      "政府 n\n",
      "捷運局 x\n",
      "、 x\n",
      "車輛 x\n",
      "原廠 x\n",
      "川崎 ns\n",
      "重工 vn\n",
      "擴大 x\n",
      "檢測 x\n",
      "， x\n",
      "於 nr\n",
      "12 m\n",
      "月 m\n",
      "11 m\n",
      "日 m\n",
      "向 p\n",
      "台中市政府 x\n",
      "報告 x\n",
      "檢測 x\n",
      "結果 x\n",
      "及 c\n",
      "改善 v\n",
      "方案 n\n",
      "。 x\n",
      "盧秀燕 x\n",
      "上午 t\n",
      "率 v\n",
      "交通局長 x\n",
      "葉昭甫 x\n",
      "、 x\n",
      "台中 s\n",
      "捷運 x\n",
      "公司 n\n",
      "董事長 x\n",
      "林志盈 x\n",
      "、 x\n",
      "法制局長 x\n",
      "李善植 x\n",
      "等 u\n",
      "人 n\n",
      "， x\n",
      "公開 x\n",
      "說明 x\n",
      "台中市政府 x\n",
      "在 p\n",
      "聽取 x\n",
      "北捷 x\n",
      "及 c\n",
      "川崎 ns\n",
      "重工 vn\n",
      "報告 x\n",
      "後 nr\n",
      "， x\n",
      "經 zg\n",
      "仔細 x\n",
      "研讀 x\n",
      "， x\n",
      "了解 v\n",
      "各項 r\n",
      "數據 x\n",
      "及 c\n",
      "影響 x\n",
      "層面 x\n",
      "， x\n",
      "並 zg\n",
      "召開 x\n",
      "內部 x\n",
      "專業 x\n",
      "會議 x\n",
      "後 nr\n",
      "， x\n",
      "盧秀燕 x\n",
      "強調 x\n",
      "， x\n",
      "基於 x\n",
      "安全 an\n",
      "至上 d\n",
      "， x\n",
      "為了 x\n",
      "安全 an\n",
      "， x\n",
      "原定 d\n",
      "19 m\n",
      "日 m\n",
      "的 uj\n",
      "通車 x\n",
      "典禮 x\n",
      "取消 v\n",
      "。 x\n"
     ]
    }
   ],
   "source": [
    "words = pseg.cut(sentence_1,)\n",
    "for word, flag in words:\n",
    "    print(word, flag)"
   ]
  },
  {
   "cell_type": "code",
   "execution_count": null,
   "metadata": {},
   "outputs": [],
   "source": []
  }
 ],
 "metadata": {
  "kernelspec": {
   "display_name": "Python 3",
   "language": "python",
   "name": "python3"
  },
  "language_info": {
   "codemirror_mode": {
    "name": "ipython",
    "version": 3
   },
   "file_extension": ".py",
   "mimetype": "text/x-python",
   "name": "python",
   "nbconvert_exporter": "python",
   "pygments_lexer": "ipython3",
   "version": "3.7.4"
  }
 },
 "nbformat": 4,
 "nbformat_minor": 2
}
